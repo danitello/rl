{
 "cells": [
  {
   "cell_type": "code",
   "execution_count": 1,
   "metadata": {},
   "outputs": [],
   "source": [
    "from collections import namedtuple\n",
    "\n",
    "import torch\n",
    "import torch.nn as nn\n",
    "import torch.optim as optim\n",
    "from torch.utils.tensorboard import SummaryWriter\n",
    "import gym\n",
    "import numpy as np"
   ]
  },
  {
   "cell_type": "code",
   "execution_count": 2,
   "metadata": {},
   "outputs": [],
   "source": [
    "HIDDEN_SIZE = 128\n",
    "BATCH_SIZE = 16\n",
    "PERCENTILE = 70"
   ]
  },
  {
   "cell_type": "code",
   "execution_count": 3,
   "metadata": {},
   "outputs": [],
   "source": [
    "class Net(nn.Module):\n",
    "    def __init__(self, obs_size, hidden_size, n_actions):\n",
    "        super(Net, self).__init__()\n",
    "        \n",
    "        self.net = nn.Sequential(\n",
    "            nn.Linear(obs_size, hidden_size),\n",
    "            nn.ReLU(),\n",
    "            nn.Linear(hidden_size, n_actions)\n",
    "        )\n",
    "        \n",
    "    def forward(self, x):\n",
    "        return self.net(x)"
   ]
  },
  {
   "cell_type": "code",
   "execution_count": 4,
   "metadata": {},
   "outputs": [],
   "source": [
    "# helper classes to track episodes\n",
    "Episode = namedtuple('Episode', field_names=['reward', 'steps'])\n",
    "EpisodeStep = namedtuple('EpisodeStep', field_names=['observation', 'action'])"
   ]
  },
  {
   "cell_type": "code",
   "execution_count": 5,
   "metadata": {},
   "outputs": [],
   "source": [
    "def iterate_batches(env, net, batch_size):\n",
    "    \"\"\"\n",
    "    generate batch of episodes\n",
    "    \"\"\"\n",
    "    batch = []\n",
    "    episode_reward = 0.0\n",
    "    episode_steps = []\n",
    "    obs = env.reset()\n",
    "    # need to include manual softmax to convert nn output to probability distro\n",
    "    # since using nn.CrossEntropyLoss which reqs raw, unnormalized data\n",
    "    sm = nn.Softmax(dim=1)\n",
    "    \n",
    "    # env loop\n",
    "    while True:\n",
    "        obs_v = torch.FloatTensor([obs])\n",
    "        act_probs_v = sm(net(obs_v))\n",
    "        act_probs = act_probs_v.data.numpy()[0]\n",
    "        action = np.random.choice(len(act_probs), p=act_probs)\n",
    "        step = EpisodeStep(observation=obs, action=action)\n",
    "        obs, reward, is_done, _ = env.step(action)\n",
    "        episode_reward += reward\n",
    "        \n",
    "        episode_steps.append(step)\n",
    "        \n",
    "        # if done, save and set up next\n",
    "        if is_done:\n",
    "            e = Episode(reward=episode_reward, steps=episode_steps)\n",
    "            batch.append(e)\n",
    "            episode_reward = 0.0\n",
    "            episode_steps = []\n",
    "            obs = env.reset()\n",
    "            \n",
    "            if len(batch) == batch_size:\n",
    "                yield batch\n",
    "                batch = []"
   ]
  },
  {
   "cell_type": "code",
   "execution_count": 6,
   "metadata": {},
   "outputs": [],
   "source": [
    "def filter_batch(batch, percentile):\n",
    "    \"\"\"\n",
    "    remove low performing episodes from batch for upcoming training step\n",
    "    \"\"\"\n",
    "    rewards = list(map(lambda ep: ep.reward, batch))\n",
    "    # create bound of reward acceptability\n",
    "    reward_bound = np.percentile(rewards, percentile)\n",
    "    reward_mean = float(np.mean(rewards))\n",
    "    \n",
    "    train_obs, train_act = [], []\n",
    "    for reward, steps in batch:\n",
    "        if reward < reward_bound:\n",
    "            continue\n",
    "        train_obs.extend(map(lambda step: step.observation, steps))\n",
    "        train_act.extend(map(lambda step: step.action, steps))\n",
    "        \n",
    "    train_obs_v = torch.FloatTensor(train_obs)\n",
    "    train_act_v = torch.LongTensor(train_act)\n",
    "    return train_obs_v, train_act_v, reward_bound, reward_mean"
   ]
  },
  {
   "cell_type": "code",
   "execution_count": 7,
   "metadata": {},
   "outputs": [
    {
     "name": "stdout",
     "output_type": "stream",
     "text": [
      "0: loss=0.690, reward_mean=22.9, rw_bound=32.0\n",
      "1: loss=0.677, reward_mean=25.9, rw_bound=27.0\n",
      "2: loss=0.666, reward_mean=33.6, rw_bound=36.0\n",
      "3: loss=0.656, reward_mean=44.2, rw_bound=46.5\n",
      "4: loss=0.644, reward_mean=42.6, rw_bound=42.0\n",
      "5: loss=0.640, reward_mean=41.4, rw_bound=43.5\n",
      "6: loss=0.630, reward_mean=35.3, rw_bound=32.5\n",
      "7: loss=0.623, reward_mean=44.2, rw_bound=49.5\n",
      "8: loss=0.604, reward_mean=47.6, rw_bound=53.0\n",
      "9: loss=0.586, reward_mean=52.1, rw_bound=57.5\n",
      "10: loss=0.585, reward_mean=63.0, rw_bound=66.0\n",
      "11: loss=0.582, reward_mean=55.9, rw_bound=60.5\n",
      "12: loss=0.563, reward_mean=49.5, rw_bound=58.5\n",
      "13: loss=0.562, reward_mean=62.0, rw_bound=75.0\n",
      "14: loss=0.550, reward_mean=61.6, rw_bound=73.0\n",
      "15: loss=0.543, reward_mean=52.6, rw_bound=61.5\n",
      "16: loss=0.547, reward_mean=54.4, rw_bound=58.0\n",
      "17: loss=0.523, reward_mean=59.9, rw_bound=64.0\n",
      "18: loss=0.528, reward_mean=68.9, rw_bound=70.0\n",
      "19: loss=0.499, reward_mean=88.0, rw_bound=103.0\n",
      "20: loss=0.506, reward_mean=91.0, rw_bound=109.0\n",
      "21: loss=0.539, reward_mean=84.5, rw_bound=93.5\n",
      "22: loss=0.519, reward_mean=98.1, rw_bound=105.5\n",
      "23: loss=0.489, reward_mean=66.8, rw_bound=69.5\n",
      "24: loss=0.514, reward_mean=95.9, rw_bound=101.5\n",
      "25: loss=0.485, reward_mean=82.4, rw_bound=92.5\n",
      "26: loss=0.482, reward_mean=96.0, rw_bound=112.0\n",
      "27: loss=0.520, reward_mean=106.4, rw_bound=117.0\n",
      "28: loss=0.497, reward_mean=135.3, rw_bound=155.0\n",
      "29: loss=0.511, reward_mean=115.9, rw_bound=126.5\n",
      "30: loss=0.489, reward_mean=164.1, rw_bound=198.0\n",
      "31: loss=0.488, reward_mean=182.8, rw_bound=200.0\n",
      "32: loss=0.486, reward_mean=178.2, rw_bound=200.0\n",
      "33: loss=0.488, reward_mean=179.0, rw_bound=200.0\n",
      "34: loss=0.489, reward_mean=185.3, rw_bound=200.0\n",
      "35: loss=0.509, reward_mean=178.2, rw_bound=200.0\n",
      "36: loss=0.491, reward_mean=192.0, rw_bound=200.0\n",
      "37: loss=0.503, reward_mean=192.7, rw_bound=200.0\n",
      "38: loss=0.484, reward_mean=195.4, rw_bound=200.0\n",
      "39: loss=0.491, reward_mean=200.0, rw_bound=200.0\n",
      "Solved!\n"
     ]
    }
   ],
   "source": [
    "# train\n",
    "env = gym.make('CartPole-v0')\n",
    "env = gym.wrappers.Monitor(env, directory='monitor', force=True)\n",
    "obs_size = env.observation_space.shape[0]\n",
    "n_actions = env.action_space.n\n",
    "\n",
    "net = Net(obs_size, HIDDEN_SIZE, n_actions)\n",
    "objective = nn.CrossEntropyLoss()\n",
    "optimizer = optim.Adam(params=net.parameters(), lr=0.01)\n",
    "writer = SummaryWriter(comment='-cartpole')\n",
    "\n",
    "for i, batch in enumerate(iterate_batches(env, net, BATCH_SIZE)):\n",
    "    obs_v, acts_v, reward_bound, reward_mean = filter_batch(batch, PERCENTILE)\n",
    "    optimizer.zero_grad()\n",
    "    action_scores_v = net(obs_v)\n",
    "    loss_v = objective(action_scores_v, acts_v)\n",
    "    loss_v.backward()\n",
    "    optimizer.step()\n",
    "    \n",
    "    print('%d: loss=%.3f, reward_mean=%.1f, rw_bound=%.1f' %\n",
    "         (i, loss_v.item(), reward_mean, reward_bound))\n",
    "    writer.add_scalar('loss', loss_v.item(), i)\n",
    "    writer.add_scalar('reward_bound', reward_bound, i)\n",
    "    writer.add_scalar('reward_mean', reward_mean, i)\n",
    "    \n",
    "    if reward_mean > 199:\n",
    "        print('Solved!')\n",
    "        break\n",
    "        \n",
    "writer.close()"
   ]
  },
  {
   "cell_type": "code",
   "execution_count": null,
   "metadata": {},
   "outputs": [],
   "source": []
  }
 ],
 "metadata": {
  "kernelspec": {
   "display_name": "Python 3",
   "language": "python",
   "name": "python3"
  },
  "language_info": {
   "codemirror_mode": {
    "name": "ipython",
    "version": 3
   },
   "file_extension": ".py",
   "mimetype": "text/x-python",
   "name": "python",
   "nbconvert_exporter": "python",
   "pygments_lexer": "ipython3",
   "version": "3.8.3"
  }
 },
 "nbformat": 4,
 "nbformat_minor": 4
}
