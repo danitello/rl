{
 "cells": [
  {
   "cell_type": "code",
   "execution_count": null,
   "metadata": {},
   "outputs": [],
   "source": [
    "from collections import namedtuple\n",
    "\n",
    "import torch\n",
    "import torch.nn as nn\n",
    "import torch.optim as optim\n",
    "from torch.utils.tensorboard import SummaryWriter\n",
    "import gym\n",
    "import numpy as np\n",
    "import random"
   ]
  },
  {
   "cell_type": "code",
   "execution_count": null,
   "metadata": {},
   "outputs": [],
   "source": [
    "HIDDEN_SIZE = 128 # hidden layer\n",
    "BATCH_SIZE = 100\n",
    "PERCENTILE = 30 # to determine performance of episode step\n",
    "GAMMA = 0.9 # reward discount factor\n",
    "random.seed(12345)"
   ]
  },
  {
   "cell_type": "code",
   "execution_count": null,
   "metadata": {},
   "outputs": [],
   "source": [
    "class DiscreteOneHotWrapper(gym.ObservationWrapper):\n",
    "    \"\"\"\n",
    "    one hot encode discrete inputs\n",
    "    \"\"\"\n",
    "    def __init__(self, env):\n",
    "        super(DiscreteOneHotWrapper, self).__init__(env)\n",
    "        assert isinstance(env.observation_space, gym.spaces.Discrete)\n",
    "        shape = (env.observation_space.n,)\n",
    "        self.observation_space = gym.spaces.Box(0.0, 1.0, shape, dtype=np.float32)\n",
    "        \n",
    "    def observation(self, observation):\n",
    "        res = np.copy(self.observation_space.low)\n",
    "        res[observation] = 1.0\n",
    "        return res"
   ]
  },
  {
   "cell_type": "code",
   "execution_count": null,
   "metadata": {},
   "outputs": [],
   "source": [
    "class Net(nn.Module):\n",
    "    def __init__(self, obs_size, hidden_size, n_actions):\n",
    "        super(Net, self).__init__()\n",
    "        \n",
    "        self.net = nn.Sequential(\n",
    "            nn.Linear(obs_size, hidden_size),\n",
    "            nn.ReLU(),\n",
    "            nn.Linear(hidden_size, n_actions)\n",
    "        )\n",
    "        \n",
    "    def forward(self, x):\n",
    "        return self.net(x)"
   ]
  },
  {
   "cell_type": "code",
   "execution_count": null,
   "metadata": {},
   "outputs": [],
   "source": [
    "# helper classes to track episodes\n",
    "Episode = namedtuple('Episode', field_names=['reward', 'steps'])\n",
    "EpisodeStep = namedtuple('EpisodeStep', field_names=['observation', 'action'])"
   ]
  },
  {
   "cell_type": "code",
   "execution_count": null,
   "metadata": {},
   "outputs": [],
   "source": [
    "def iterate_batches(env, net, batch_size):\n",
    "    \"\"\"\n",
    "    generate batch of episodes\n",
    "    \"\"\"\n",
    "    batch = []\n",
    "    episode_reward = 0.0\n",
    "    episode_steps = []\n",
    "    obs = env.reset()\n",
    "    # need to include manual softmax to convert nn output to probability distro\n",
    "    # since using nn.CrossEntropyLoss which reqs raw, unnormalized data\n",
    "    sm = nn.Softmax(dim=1)\n",
    "    \n",
    "    # env loop\n",
    "    while True:\n",
    "        obs_v = torch.FloatTensor([obs])\n",
    "        act_probs_v = sm(net(obs_v))\n",
    "        act_probs = act_probs_v.data.numpy()[0]\n",
    "        action = np.random.choice(len(act_probs), p=act_probs)\n",
    "        step = EpisodeStep(observation=obs, action=action)\n",
    "        obs, reward, is_done, _ = env.step(action)\n",
    "        episode_reward += reward\n",
    "        \n",
    "        episode_steps.append(step)\n",
    "        \n",
    "        # if done, save and set up next\n",
    "        if is_done:\n",
    "            e = Episode(reward=episode_reward, steps=episode_steps)\n",
    "            batch.append(e)\n",
    "            episode_reward = 0.0\n",
    "            episode_steps = []\n",
    "            obs = env.reset()\n",
    "            \n",
    "            if len(batch) == batch_size:\n",
    "                yield batch\n",
    "                batch = []"
   ]
  },
  {
   "cell_type": "code",
   "execution_count": null,
   "metadata": {},
   "outputs": [],
   "source": [
    "def filter_batch(batch, percentile):\n",
    "    \"\"\"\n",
    "    remove low performing episodes from batch for upcoming training step\n",
    "    \"\"\"\n",
    "    # penalize rewards acquired at higher # steps (discount)\n",
    "    filter_func = lambda ep: ep.reward * (GAMMA ** len(ep.steps))\n",
    "    disc_rewards = list(map(filter_func, batch))\n",
    "    #rewards = list(map(lambda ep: ep.reward, batch))\n",
    "    \n",
    "    # create bound of reward acceptability\n",
    "    reward_bound = np.percentile(disc_rewards, percentile)\n",
    "    \n",
    "    # keeping the elite episodes to continue training on upcoming rounds\n",
    "    train_obs, train_act, elite_batch = [], [], []\n",
    "    \n",
    "    for ep, disc_rew in zip(batch, disc_rewards):\n",
    "        if disc_rew > reward_bound:\n",
    "            train_obs.extend(map(lambda step: step.observation, ep.steps))\n",
    "            train_act.extend(map(lambda step: step.action, ep.steps))\n",
    "            elite_batch.append(ep)\n",
    "        \n",
    "    return elite_batch, train_obs, train_act, reward_bound"
   ]
  },
  {
   "cell_type": "code",
   "execution_count": null,
   "metadata": {},
   "outputs": [],
   "source": [
    "# train\n",
    "env = DiscreteOneHotWrapper(gym.make('FrozenLake-v0'))\n",
    "env = gym.wrappers.Monitor(env, directory='monitor', force=True)\n",
    "obs_size = env.observation_space.shape[0]\n",
    "n_actions = env.action_space.n\n",
    "\n",
    "net = Net(obs_size, HIDDEN_SIZE, n_actions)\n",
    "objective = nn.CrossEntropyLoss()\n",
    "optimizer = optim.Adam(params=net.parameters(), lr=0.001)\n",
    "writer = SummaryWriter(comment='-frozen-lake-0')\n",
    "\n",
    "full_batch = [] # to accumulate elite episodes over iterations\n",
    "for i, batch in enumerate(iterate_batches(env, net, BATCH_SIZE)):\n",
    "    reward_mean = float(np.mean(list(map(lambda step: step.reward, batch))))\n",
    "    full_batch, obs, acts, reward_bound = filter_batch(full_batch + batch, PERCENTILE)\n",
    "    if not full_batch:\n",
    "        continue\n",
    "    \n",
    "    obs_v = torch.FloatTensor(obs)\n",
    "    acts_v = torch.LongTensor(acts)\n",
    "    full_batch = full_batch[-500:]\n",
    "    \n",
    "    optimizer.zero_grad()\n",
    "    action_scores_v = net(obs_v)\n",
    "    loss_v = objective(action_scores_v, acts_v)\n",
    "    loss_v.backward()\n",
    "    optimizer.step()\n",
    "    \n",
    "    print('%d: loss=%.3f, reward_mean=%.1f, rw_bound=%.1f' %\n",
    "         (i, loss_v.item(), reward_mean, reward_bound))\n",
    "    writer.add_scalar('loss', loss_v.item(), i)\n",
    "    writer.add_scalar('reward_mean', reward_mean, i)\n",
    "    writer.add_scalar('reward_bound', reward_bound, i)\n",
    "    \n",
    "    if reward_mean > 0.8:\n",
    "        print('Solved!')\n",
    "        break\n",
    "        \n",
    "writer.close()"
   ]
  }
 ],
 "metadata": {
  "kernelspec": {
   "display_name": "Python 3",
   "language": "python",
   "name": "python3"
  },
  "language_info": {
   "codemirror_mode": {
    "name": "ipython",
    "version": 3
   },
   "file_extension": ".py",
   "mimetype": "text/x-python",
   "name": "python",
   "nbconvert_exporter": "python",
   "pygments_lexer": "ipython3",
   "version": "3.8.3"
  }
 },
 "nbformat": 4,
 "nbformat_minor": 4
}
