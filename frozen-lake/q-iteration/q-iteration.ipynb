{
 "cells": [
  {
   "cell_type": "code",
   "execution_count": 1,
   "metadata": {},
   "outputs": [],
   "source": [
    "import gym\n",
    "import collections\n",
    "\n",
    "from torch.utils.tensorboard import SummaryWriter"
   ]
  },
  {
   "cell_type": "code",
   "execution_count": 2,
   "metadata": {},
   "outputs": [],
   "source": [
    "GAMMA = 0.9\n",
    "NUM_TEST_EPISODES = 20\n",
    "GYM_ENV = \"FrozenLake8x8-v0\""
   ]
  },
  {
   "cell_type": "code",
   "execution_count": 5,
   "metadata": {},
   "outputs": [],
   "source": [
    "class Agent:\n",
    "    def __init__(self):\n",
    "        self.env = gym.make(GYM_ENV)\n",
    "        self.state = self.env.reset()\n",
    "        # {(state, action, new_state): reward}\n",
    "        self.rewards = collections.defaultdict(float)\n",
    "        # {(state, action): {tgt_state: count}}\n",
    "        self.transitions = collections.defaultdict(collections.Counter)\n",
    "        # {(state, action): value}\n",
    "        self.values = collections.defaultdict(float)\n",
    "        \n",
    "    def value_iteration(self):\n",
    "        \"\"\"\n",
    "        to build some knowledge about the env\n",
    "        namely, saving the value of each action for each state\n",
    "        implements Bellman approximation\n",
    "        \"\"\"\n",
    "        for state in range(self.env.observation_space.n):\n",
    "            for action in range(self.env.action_space.n):\n",
    "                target_counts = self.transitions[(state, action)]\n",
    "                total = sum(target_counts.values())\n",
    "                action_value = 0\n",
    "                for tgt_state, count in target_counts.items():\n",
    "                    reward = self.rewards[(state, action, tgt_state)]\n",
    "                    best_action = self.select_action(tgt_state)\n",
    "                    val = reward + GAMMA * self.values[(tgt_state, best_action)]\n",
    "                    action_value += (count/total) * val\n",
    "                self.values[(state, action)] = action_value\n",
    "\n",
    "    def play_n_random_steps(self, count):\n",
    "        \"\"\"\n",
    "        to build some knowledge about the env\n",
    "        namely, reward given for state + action -> new_state\n",
    "        and (transitions,) the probability of state + action -> new_state (over all possible [new_state]s)\n",
    "        \"\"\"\n",
    "        for _ in range(count):\n",
    "            action = self.env.action_space.sample()\n",
    "            new_state, reward, is_done, _ = self.env.step(action)\n",
    "            self.rewards[(self.state, action, new_state)] = reward\n",
    "            self.transitions[(self.state, action)][new_state] += 1\n",
    "            self.state = self.env.reset() if is_done else new_state\n",
    "\n",
    "    def play_episode(self, env):\n",
    "        \"\"\"\n",
    "        use built knowledge on outside env\n",
    "        \"\"\"\n",
    "        total_reward = 0.0\n",
    "        state = env.reset()\n",
    "        while True:\n",
    "            action = self.select_action(state)\n",
    "            new_state, reward, is_done, _ = env.step(action)\n",
    "            self.rewards[(state, action, new_state)] = reward\n",
    "            self.transitions[(state, action)] [new_state] += 1\n",
    "            total_reward += reward\n",
    "            if is_done:\n",
    "                break\n",
    "            state = new_state\n",
    "        return total_reward\n",
    "        \n",
    "    def select_action(self, state):\n",
    "        \"\"\"\n",
    "        determines 'best' action at a state by argmaxing all saved state-action values\n",
    "        \"\"\"\n",
    "        best_action, best_value = None, None\n",
    "        for action in range(self.env.action_space.n):\n",
    "            action_value = self.values[(state, action)]\n",
    "            if best_value is None or best_value < action_value:\n",
    "                best_value = action_value\n",
    "                best_action = action\n",
    "        return best_action"
   ]
  },
  {
   "cell_type": "code",
   "execution_count": 6,
   "metadata": {},
   "outputs": [
    {
     "name": "stdout",
     "output_type": "stream",
     "text": [
      "Best reward updated 0.000 -> 0.050\n",
      "Best reward updated 0.050 -> 0.100\n",
      "Best reward updated 0.100 -> 0.400\n",
      "Best reward updated 0.400 -> 0.500\n",
      "Best reward updated 0.500 -> 0.600\n",
      "Best reward updated 0.600 -> 0.700\n",
      "Best reward updated 0.700 -> 0.800\n",
      "Best reward updated 0.800 -> 0.850\n",
      "Solved in 1025 iterations\n"
     ]
    }
   ],
   "source": [
    "# train\n",
    "test_env = gym.make(GYM_ENV)\n",
    "agent = Agent()\n",
    "writer = SummaryWriter(comment=f'-q-iteration-{GYM_ENV}')\n",
    "\n",
    "i = 0\n",
    "best_reward = 0.0\n",
    "while True:\n",
    "    i += 1\n",
    "    agent.play_n_random_steps(100)\n",
    "    agent.value_iteration()\n",
    "    \n",
    "    reward = 0.0\n",
    "    for _ in range(NUM_TEST_EPISODES):\n",
    "        reward += agent.play_episode(test_env)\n",
    "    reward /= NUM_TEST_EPISODES\n",
    "    writer.add_scalar(\"reward\", reward, i)\n",
    "    \n",
    "    if reward > best_reward:\n",
    "        print(\"Best reward updated %.3f -> %.3f\" % (best_reward, reward))\n",
    "        best_reward = reward\n",
    "\n",
    "    if reward > 0.8:\n",
    "        print(\"Solved in %d iterations\" % i)\n",
    "        break\n",
    "\n",
    "writer.close()"
   ]
  },
  {
   "cell_type": "code",
   "execution_count": null,
   "metadata": {},
   "outputs": [],
   "source": []
  }
 ],
 "metadata": {
  "kernelspec": {
   "display_name": "Python 3",
   "language": "python",
   "name": "python3"
  },
  "language_info": {
   "codemirror_mode": {
    "name": "ipython",
    "version": 3
   },
   "file_extension": ".py",
   "mimetype": "text/x-python",
   "name": "python",
   "nbconvert_exporter": "python",
   "pygments_lexer": "ipython3",
   "version": "3.8.3"
  }
 },
 "nbformat": 4,
 "nbformat_minor": 4
}
