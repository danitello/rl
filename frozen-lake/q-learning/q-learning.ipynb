{
 "cells": [
  {
   "cell_type": "code",
   "execution_count": 1,
   "metadata": {},
   "outputs": [],
   "source": [
    "import gym\n",
    "import collections\n",
    "\n",
    "from torch.utils.tensorboard import SummaryWriter"
   ]
  },
  {
   "cell_type": "code",
   "execution_count": 2,
   "metadata": {},
   "outputs": [],
   "source": [
    "ALPHA = 0.2\n",
    "GAMMA = 0.9\n",
    "NUM_TEST_EPISODES = 20\n",
    "GYM_ENV = \"FrozenLake-v0\""
   ]
  },
  {
   "cell_type": "code",
   "execution_count": 3,
   "metadata": {},
   "outputs": [],
   "source": [
    "class Agent:\n",
    "    def __init__(self):\n",
    "        self.env = gym.make(GYM_ENV)\n",
    "        self.state = self.env.reset()\n",
    "        self.values = collections.defaultdict(float)\n",
    "        \n",
    "    def play_episode(self, env):\n",
    "        \"\"\"\n",
    "        use built knowledge on outside env\n",
    "        \"\"\"\n",
    "        total_reward = 0.0\n",
    "        state = env.reset()\n",
    "        while True:\n",
    "            _, action = self.best_value_and_action(state)\n",
    "            new_state, reward, is_done, _ = env.step(action)\n",
    "            total_reward += reward\n",
    "            if is_done:\n",
    "                break\n",
    "            state = new_state\n",
    "        return total_reward\n",
    "        \n",
    "    def value_update(self, state, action, reward, next_state):\n",
    "        \"\"\"\n",
    "        updates (old) state entry of value table given findings from action -> new state\n",
    "        implements Bellman approx with learning rate\n",
    "        \"\"\"\n",
    "        best_value, _ = self.best_value_and_action(next_state)\n",
    "        new_value = reward + GAMMA * best_value\n",
    "        old_value = self.values[(state, action)]\n",
    "        self.values[(state, action)] = old_value * (1-ALPHA) + ALPHA * new_value\n",
    "    \n",
    "    def sample_env(self):\n",
    "        \"\"\"\n",
    "        used for training to build knowledge of env\n",
    "        \"\"\"\n",
    "        action = self.env.action_space.sample()\n",
    "        old_state = self.state\n",
    "        new_state, reward, is_done, _ = self.env.step(action)\n",
    "        self.state = self.env.reset() if is_done else new_state\n",
    "        return old_state, action, reward, new_state\n",
    "    \n",
    "    def best_value_and_action(self, state):\n",
    "        \"\"\"\n",
    "        determines 'best' value and action at a state by argmaxing all saved state-action values\n",
    "        \"\"\"\n",
    "        best_value, best_action = None, None\n",
    "        for action in range(self.env.action_space.n):\n",
    "            action_value = self.values[(state, action)]\n",
    "            if best_value is None or action_value > best_value:\n",
    "                best_value = action_value\n",
    "                best_action = action\n",
    "        return best_value, best_action"
   ]
  },
  {
   "cell_type": "code",
   "execution_count": 4,
   "metadata": {},
   "outputs": [
    {
     "name": "stdout",
     "output_type": "stream",
     "text": [
      "Best reward updated 0.000 -> 0.050\n",
      "Best reward updated 0.050 -> 0.100\n",
      "Best reward updated 0.100 -> 0.150\n",
      "Best reward updated 0.150 -> 0.250\n",
      "Best reward updated 0.250 -> 0.400\n",
      "Best reward updated 0.400 -> 0.450\n",
      "Best reward updated 0.450 -> 0.500\n",
      "Best reward updated 0.500 -> 0.550\n",
      "Best reward updated 0.550 -> 0.650\n",
      "Best reward updated 0.650 -> 0.750\n",
      "Best reward updated 0.750 -> 0.800\n",
      "Best reward updated 0.800 -> 0.850\n",
      "Solved in 11939 iterations\n"
     ]
    }
   ],
   "source": [
    "test_env = gym.make(GYM_ENV)\n",
    "agent = Agent()\n",
    "writer = SummaryWriter(comment=f'-q-learning-{GYM_ENV}')\n",
    "\n",
    "i = 0\n",
    "best_reward = 0.0\n",
    "while True:\n",
    "    i += 1\n",
    "    state, action, reward, next_state = agent.sample_env()\n",
    "    agent.value_update(state, action, reward, next_state)\n",
    "    \n",
    "    reward = 0.0\n",
    "    for _ in range(NUM_TEST_EPISODES):\n",
    "        reward += agent.play_episode(test_env)\n",
    "    reward /= NUM_TEST_EPISODES\n",
    "    writer.add_scalar(\"reward\", reward, i)\n",
    "    \n",
    "    if reward > best_reward:\n",
    "        print(\"Best reward updated %.3f -> %.3f\" % (best_reward, reward))\n",
    "        best_reward = reward\n",
    "    \n",
    "    if reward > 0.8:\n",
    "        print(\"Solved in %d iterations\" % i)\n",
    "        break\n",
    "\n",
    "writer.close()"
   ]
  },
  {
   "cell_type": "code",
   "execution_count": null,
   "metadata": {},
   "outputs": [],
   "source": []
  }
 ],
 "metadata": {
  "kernelspec": {
   "display_name": "Python 3",
   "language": "python",
   "name": "python3"
  },
  "language_info": {
   "codemirror_mode": {
    "name": "ipython",
    "version": 3
   },
   "file_extension": ".py",
   "mimetype": "text/x-python",
   "name": "python",
   "nbconvert_exporter": "python",
   "pygments_lexer": "ipython3",
   "version": "3.8.3"
  }
 },
 "nbformat": 4,
 "nbformat_minor": 4
}
